{
  "nbformat": 4,
  "nbformat_minor": 0,
  "metadata": {
    "colab": {
      "name": "control structures.ipynb",
      "provenance": [],
      "authorship_tag": "ABX9TyNJTPm6Dr3fVr5SijSSiaMR",
      "include_colab_link": true
    },
    "kernelspec": {
      "name": "python3",
      "display_name": "Python 3"
    },
    "language_info": {
      "name": "python"
    }
  },
  "cells": [
    {
      "cell_type": "markdown",
      "metadata": {
        "id": "view-in-github",
        "colab_type": "text"
      },
      "source": [
        "<a href=\"https://colab.research.google.com/github/sampathhk/python-prog/blob/main/control_structures.ipynb\" target=\"_parent\"><img src=\"https://colab.research.google.com/assets/colab-badge.svg\" alt=\"Open In Colab\"/></a>"
      ]
    },
    {
      "cell_type": "code",
      "execution_count": 3,
      "metadata": {
        "colab": {
          "base_uri": "https://localhost:8080/"
        },
        "id": "_vNbC6zFPg5i",
        "outputId": "3cfad8cf-3ac0-4a31-f44e-56457907b103"
      },
      "outputs": [
        {
          "output_type": "stream",
          "name": "stdout",
          "text": [
            "enter age169\n",
            "eligible for voting\n"
          ]
        }
      ],
      "source": [
        "# wap to check eligibility for voting\n",
        "a=int(input (\"enter age\"))\n",
        "if (a>=18):\n",
        "  print(\"eligible for voting\")\n",
        "else :\n",
        "    print(\"not eligible\")"
      ]
    },
    {
      "cell_type": "code",
      "source": [
        "# wap to check triangle is equi/scalane/isoseles\n",
        "a=int(input (\"enter side 1\") )\n",
        "b=int(input (\"enter side 2\") )\n",
        "c=int(input (\"enter side 3\") )\n",
        "if (a==b==c):\n",
        "  print(\"equilateral\")\n",
        "elif (a==b or b==c or c==1a):\n",
        "  print(\"isoseles\")\n",
        "else :\n",
        "  print(\"scalane\")\n"
      ],
      "metadata": {
        "colab": {
          "base_uri": "https://localhost:8080/"
        },
        "id": "Kvy5Dt4mRWnq",
        "outputId": "0098e65b-922c-4107-f80e-9bddd1468fa0"
      },
      "execution_count": 11,
      "outputs": [
        {
          "output_type": "stream",
          "name": "stdout",
          "text": [
            "enter side 115\n",
            "enter side 23\n",
            "enter side 316\n",
            "scalane\n"
          ]
        }
      ]
    },
    {
      "cell_type": "code",
      "source": [
        "#greatest of sub\n",
        "s=1\n",
        "n=int(input(\"enter number of sub \"))\n",
        "max=int(input (f\"enter sub {s} \"))\n",
        "while s<n :\n",
        "  a=int(input (f\"enter {s+1} \") )\n",
        "  s=s+1\n",
        "  if (a>max):\n",
        "    max=a\n",
        "print(f\"{max}\")\n",
        "\n",
        "\n"
      ],
      "metadata": {
        "colab": {
          "base_uri": "https://localhost:8080/"
        },
        "id": "PVxHXg42UeGR",
        "outputId": "30368b18-c652-4a02-a824-47a66e4babdc"
      },
      "execution_count": 16,
      "outputs": [
        {
          "output_type": "stream",
          "name": "stdout",
          "text": [
            "enter number of sub 5\n",
            "enter sub 1 30\n",
            "enter 2 40\n",
            "enter 3 100\n",
            "enter 4 40\n",
            "enter 5 20\n",
            "100\n"
          ]
        }
      ]
    },
    {
      "cell_type": "code",
      "source": [
        "#max of 3 numbers\n",
        "a=int(input (\"enter a\") )\n",
        "b=int(input (\"enter b\") )\n",
        "c=int(input (\"enter c\") )\n",
        "if (a>b and a>c):\n",
        "  print(\"a is max\")\n",
        "elif (b>c):\n",
        "  print(\"b is max\")\n",
        "else :\n",
        "  print(\"c is max\")"
      ],
      "metadata": {
        "colab": {
          "base_uri": "https://localhost:8080/"
        },
        "id": "2o3n_T82R_dr",
        "outputId": "f34e0c93-6919-48c3-f9a9-19d0f608099f"
      },
      "execution_count": 13,
      "outputs": [
        {
          "output_type": "stream",
          "name": "stdout",
          "text": [
            "enter a1\n",
            "enter b2\n",
            "enter c3\n",
            "c is max\n"
          ]
        }
      ]
    },
    {
      "cell_type": "code",
      "source": [
        "#check leap year\n",
        "Year=int(input (\"enter year\") )\n",
        "if((Year % 400 == 0) or  \n",
        "     (Year % 100 != 0) and  \n",
        "     (Year % 4 == 0)):   \n",
        "    print(\"Given Year is a leap Year\");  \n",
        "else :  \n",
        "    print (\"Given Year is not a leap Year\")  "
      ],
      "metadata": {
        "colab": {
          "base_uri": "https://localhost:8080/"
        },
        "id": "cC1Q7i96Tjvq",
        "outputId": "c0d3adff-5040-4d1f-c577-a6b173d8d8c3"
      },
      "execution_count": 19,
      "outputs": [
        {
          "output_type": "stream",
          "name": "stdout",
          "text": [
            "enter year2012\n",
            "Given Year is a leap Year\n"
          ]
        }
      ]
    },
    {
      "cell_type": "code",
      "source": [
        "#min among 3 numbers\n",
        "a=int(input (\"enter a\") )\n",
        "b=int(input (\"enter b\") )\n",
        "c=int(input (\"enter c\") )\n",
        "if (a<b and a<c):\n",
        "  print(\"a is min\")\n",
        "elif (b<c):\n",
        "  print(\"b is min\")\n",
        "else :\n",
        "  print(\"c is min\")"
      ],
      "metadata": {
        "colab": {
          "base_uri": "https://localhost:8080/"
        },
        "id": "WAk5_dV9dBgo",
        "outputId": "09604e12-eb04-47a9-9d30-cde3b90f4392"
      },
      "execution_count": 23,
      "outputs": [
        {
          "output_type": "stream",
          "name": "stdout",
          "text": [
            "enter a1\n",
            "enter b2\n",
            "enter c3\n",
            "a is min\n"
          ]
        }
      ]
    },
    {
      "cell_type": "code",
      "source": [
        "#div by 5 &11\n",
        "a=int(input (\"enter a\") )\n",
        "if (a%5==0 and a%11==0) :\n",
        "  print(\"div by both 5 & 11\")\n",
        "elif (a%5==0 and a%11!=0):\n",
        "  print(\"div by 5 and not 11\")\n",
        "elif (a%5!=0 and a%11==0):\n",
        "  print(\"div by 11 and not 5\")\n",
        "else :\n",
        "  print(\"not div by both 5 and 11\")\n"
      ],
      "metadata": {
        "colab": {
          "base_uri": "https://localhost:8080/"
        },
        "id": "2LvGVWx6d2ie",
        "outputId": "514d7abf-5f7f-4732-b3c7-264c60b0ba14"
      },
      "execution_count": 25,
      "outputs": [
        {
          "output_type": "stream",
          "name": "stdout",
          "text": [
            "enter a50\n",
            "div by 5 and not 11\n"
          ]
        }
      ]
    },
    {
      "cell_type": "code",
      "source": [
        ""
      ],
      "metadata": {
        "id": "TVWU9K20gE1e"
      },
      "execution_count": null,
      "outputs": []
    }
  ]
}