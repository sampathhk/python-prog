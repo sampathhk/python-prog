{
  "cells": [
    {
      "cell_type": "markdown",
      "metadata": {
        "id": "view-in-github",
        "colab_type": "text"
      },
      "source": [
        "<a href=\"https://colab.research.google.com/github/sampathhk/python-prog/blob/main/py_data_types.ipynb\" target=\"_parent\"><img src=\"https://colab.research.google.com/assets/colab-badge.svg\" alt=\"Open In Colab\"/></a>"
      ]
    },
    {
      "cell_type": "markdown",
      "id": "cb3a1863",
      "metadata": {
        "id": "cb3a1863"
      },
      "source": [
        "\n"
      ]
    },
    {
      "cell_type": "code",
      "source": [
        ""
      ],
      "metadata": {
        "id": "0ZaBwncGs5qn"
      },
      "id": "0ZaBwncGs5qn",
      "execution_count": null,
      "outputs": []
    },
    {
      "cell_type": "markdown",
      "id": "f4ee25e8",
      "metadata": {
        "id": "f4ee25e8"
      },
      "source": [
        "a=int (input(\"enter a\"))\n",
        "if a%2==0 :\n",
        "    print (\"a is even\")\n",
        "else:\n",
        "    print(\"a is odd\")"
      ]
    },
    {
      "cell_type": "markdown",
      "id": "31c570e7",
      "metadata": {
        "id": "31c570e7"
      },
      "source": [
        "# conerting string to all data types\n",
        "a='10'\n",
        "print(type(a))\n",
        "b=int(a)\n",
        "print(type(b))\n",
        "#strings cannot be converted int int\n",
        "#c=\"ten\"\n",
        "#print(int(c))\n",
        "x=float(a)\n",
        "print(type(x))\n",
        "print(x)\n",
        "d=bool(a)\n",
        "print(type(d))\n",
        "e=complex(a)\n",
        "print(type(e))\n"
      ]
    },
    {
      "cell_type": "markdown",
      "id": "c49ac003",
      "metadata": {
        "id": "c49ac003"
      },
      "source": [
        "# conerting float to all data types.\n",
        "a=10.00\n",
        "print(type(a))\n",
        "b=str(a)\n",
        "print(type(b))\n",
        "c=int(a)\n",
        "print(type(c))\n",
        "print(c)\n",
        "d=bool(a)\n",
        "print(type(d))\n",
        "e=complex(a)\n",
        "print(type(e))\n"
      ]
    },
    {
      "cell_type": "markdown",
      "id": "6f3af14d",
      "metadata": {
        "id": "6f3af14d"
      },
      "source": [
        "# conerting boolean to all data types.\n",
        "a= True\n",
        "print(type(a))\n",
        "b=str(a)\n",
        "print(type(b))\n",
        "c=float(a)\n",
        "print(type(c))\n",
        "print(c)\n",
        "d=int(a)\n",
        "print(type(d))\n",
        "e=complex(a)\n",
        "print(type(e))\n"
      ]
    },
    {
      "cell_type": "markdown",
      "id": "f43edb73",
      "metadata": {
        "id": "f43edb73"
      },
      "source": [
        "# conerting complex into all data types\n",
        "\n",
        "a= 50.0+0j\n",
        "print(type(a))\n",
        "b=str(a)\n",
        "print(type(b))\n",
        "#cant convert complex into int and float\n",
        "#c=float(a)\n",
        "#print(type(c))\n",
        "#print(c)\n",
        "#d=int(a)\n",
        "#print(type(d))\n",
        "e=bool(a)\n",
        "print(type(e))\n"
      ]
    },
    {
      "cell_type": "markdown",
      "id": "69cbe818",
      "metadata": {
        "id": "69cbe818"
      },
      "source": [
        "# helloworld\n",
        "print(\"hello world\")"
      ]
    },
    {
      "cell_type": "code",
      "execution_count": null,
      "id": "a9f05406",
      "metadata": {
        "id": "a9f05406"
      },
      "outputs": [],
      "source": [
        ""
      ]
    }
  ],
  "metadata": {
    "kernelspec": {
      "display_name": "Python 3 (ipykernel)",
      "language": "python",
      "name": "python3"
    },
    "language_info": {
      "codemirror_mode": {
        "name": "ipython",
        "version": 3
      },
      "file_extension": ".py",
      "mimetype": "text/x-python",
      "name": "python",
      "nbconvert_exporter": "python",
      "pygments_lexer": "ipython3",
      "version": "3.9.7"
    },
    "colab": {
      "name": "py data types.ipynb",
      "provenance": [],
      "collapsed_sections": [],
      "include_colab_link": true
    }
  },
  "nbformat": 4,
  "nbformat_minor": 5
}