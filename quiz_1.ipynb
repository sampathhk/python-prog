{
  "nbformat": 4,
  "nbformat_minor": 0,
  "metadata": {
    "colab": {
      "name": "quiz 1.ipynb",
      "provenance": [],
      "authorship_tag": "ABX9TyN9xbbiLvoRVodmlI0XJjal",
      "include_colab_link": true
    },
    "kernelspec": {
      "name": "python3",
      "display_name": "Python 3"
    },
    "language_info": {
      "name": "python"
    }
  },
  "cells": [
    {
      "cell_type": "markdown",
      "metadata": {
        "id": "view-in-github",
        "colab_type": "text"
      },
      "source": [
        "<a href=\"https://colab.research.google.com/github/sampathhk/python-prog/blob/main/quiz_1.ipynb\" target=\"_parent\"><img src=\"https://colab.research.google.com/assets/colab-badge.svg\" alt=\"Open In Colab\"/></a>"
      ]
    },
    {
      "cell_type": "markdown",
      "source": [
        "Write a program of swapping of two numbers \n",
        "\n"
      ],
      "metadata": {
        "id": "wXCID-sKiNk4"
      }
    },
    {
      "cell_type": "code",
      "execution_count": null,
      "metadata": {
        "colab": {
          "base_uri": "https://localhost:8080/"
        },
        "id": "oyflVyJMg1Hc",
        "outputId": "5c221206-af94-4b49-cc50-f6ff9e7a2139"
      },
      "outputs": [
        {
          "output_type": "stream",
          "name": "stdout",
          "text": [
            "Result = 3 2\n"
          ]
        }
      ],
      "source": [
        "a=2\n",
        "b=3\n",
        "c=b\n",
        "b=a\n",
        "a=c\n",
        "print(f\"Result = {a} {b}\")\n"
      ]
    },
    {
      "cell_type": "markdown",
      "source": [
        "Find out the square root of the number"
      ],
      "metadata": {
        "id": "LRMaYnfTiZsd"
      }
    },
    {
      "cell_type": "code",
      "source": [
        "import math\n",
        "a=4\n",
        "a=math.sqrt(a)\n",
        "print(a)"
      ],
      "metadata": {
        "colab": {
          "base_uri": "https://localhost:8080/"
        },
        "id": "JfteF3WChOKP",
        "outputId": "e140a910-597d-4b82-d2de-be919ee6c752"
      },
      "execution_count": null,
      "outputs": [
        {
          "output_type": "stream",
          "name": "stdout",
          "text": [
            "2.0\n"
          ]
        }
      ]
    },
    {
      "cell_type": "markdown",
      "source": [
        "Find out the Largest of three numbers from the give input"
      ],
      "metadata": {
        "id": "2SCB0EktioyG"
      }
    },
    {
      "cell_type": "code",
      "source": [
        "a=5\n",
        "b=3\n",
        "c=2\n",
        "if(a>b and a>c):\n",
        "    print(a)\n",
        "elif(b>c):\n",
        "    print (b)\n",
        "else:\n",
        "    print(c)"
      ],
      "metadata": {
        "colab": {
          "base_uri": "https://localhost:8080/"
        },
        "id": "pEtH1BthhTI2",
        "outputId": "1c10c0c2-8ffa-448e-b3cd-655b6bff3444"
      },
      "execution_count": null,
      "outputs": [
        {
          "output_type": "stream",
          "name": "stdout",
          "text": [
            "5\n"
          ]
        }
      ]
    },
    {
      "cell_type": "markdown",
      "source": [
        "Add Black color to the given list in the 4th place.\n",
        "\n",
        " Rainbow = ['Red', 'Orange', 'Yellow', 'Green'] "
      ],
      "metadata": {
        "id": "JZ5V1Kb7i-jl"
      }
    },
    {
      "cell_type": "code",
      "source": [
        "Rainbow=['Red','Orange','Yellow','Green']\n",
        "Rainbow.insert(3,\"Black\")\n",
        "print(Rainbow)"
      ],
      "metadata": {
        "colab": {
          "base_uri": "https://localhost:8080/"
        },
        "id": "x6dEk3qnhWQv",
        "outputId": "f0f8292e-93e8-4173-d7eb-9f282de37dec"
      },
      "execution_count": null,
      "outputs": [
        {
          "output_type": "stream",
          "name": "stdout",
          "text": [
            "['Red', 'Orange', 'Yellow', 'Black', 'Green']\n"
          ]
        }
      ]
    },
    {
      "cell_type": "code",
      "source": [
        ""
      ],
      "metadata": {
        "id": "0lBCqpBQhsvX"
      },
      "execution_count": null,
      "outputs": []
    }
  ]
}